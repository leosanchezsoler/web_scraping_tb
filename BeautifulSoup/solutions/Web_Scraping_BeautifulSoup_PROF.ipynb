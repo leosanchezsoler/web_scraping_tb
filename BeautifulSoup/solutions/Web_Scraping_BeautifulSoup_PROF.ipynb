{
 "cells": [
  {
   "cell_type": "markdown",
   "metadata": {},
   "source": [
    "Antes de empezar: un poco de documentación para enterder ligeramente cómo funciona HTML: https://www.w3schools.com/html/html_intro.asp"
   ]
  },
  {
   "cell_type": "markdown",
   "metadata": {},
   "source": [
    "# Web Scraping: Beautiful Soup"
   ]
  },
  {
   "cell_type": "markdown",
   "metadata": {},
   "source": [
    "**Beautiful Soup** es una librería **Python** que permite extraer información de contenido en formato **HTML o XML**. Para usarla, es necesario especificar un **parser**, que es responsable de transformar un documento HTML o XML en un árbol complejo de objetos Python. Esto permite, por ejemplo, que podamos interactuar con los elementos de una página web como si estuviésemos utilizando las herramientas del desarrollador de un navegador.\n",
    "\n",
    "A la hora de extraer información de una web, uno de los parsers más utilizado es el parser HTML de **lxml**. Precisamente, será el que utilicemos en este tutorial."
   ]
  },
  {
   "cell_type": "markdown",
   "metadata": {},
   "source": [
    "**Será necesario instalar las siguientes librerías** (si no las tienes ya):\n",
    "\n",
    "        pip3 install beautifulsoup4 requests pandas\n",
    "\n",
    "        pip3 install beautifulsoup4 \n",
    "\n",
    "        pip3 install requests\n",
    "\n",
    "        pip3 install pandas "
   ]
  },
  {
   "cell_type": "markdown",
   "metadata": {},
   "source": [
    "###  Pasos a seguir en el proceso de 'scraping':\n",
    "\n",
    "1. Encuentra la URL que quieres 'escrapear'.\n",
    "2. Inspecciona la página (código fuente).\n",
    "3. Localiza los datos que necesitas obtener.\n",
    "4. Desarrolla tu código en Python.\n",
    "    1. Crea tu sopa\n",
    "    2. Busca los elementos que cotienen los datos y extráelos\n",
    "5. Ejecuta tu código y obten los datos.\n",
    "6. Alamacena los datos en el formato requerido."
   ]
  },
  {
   "cell_type": "markdown",
   "metadata": {},
   "source": [
    "Algunos ejemplos de Web Scraping utilizando Beautiful Soup:\n",
    "\n",
    "https://j2logo.com/python/web-scraping-con-python-guia-inicio-beautifulsoup/\n",
    "\n",
    "http://omz-software.com/pythonista/docs/ios/beautifulsoup_guide.html\n",
    "\n",
    "https://towardsdatascience.com/top-5-beautiful-soup-functions-7bfe5a693482\n",
    "\n",
    "https://www.crummy.com/software/BeautifulSoup/bs4/doc/"
   ]
  },
  {
   "cell_type": "code",
   "execution_count": 1,
   "metadata": {},
   "outputs": [],
   "source": [
    "# Importamos librerías\n",
    "import requests\n",
    "from bs4 import BeautifulSoup\n",
    "import pandas as pd\n",
    "import html\n",
    "import numpy as np"
   ]
  },
  {
   "cell_type": "markdown",
   "metadata": {},
   "source": [
    "## Caso 1: Scraping de un catálogo: Labirratorium"
   ]
  },
  {
   "cell_type": "code",
   "execution_count": 2,
   "metadata": {},
   "outputs": [],
   "source": [
    "URL = 'https://www.labirratorium.com/es/67-cervezas-por-estilo?page='"
   ]
  },
  {
   "cell_type": "markdown",
   "metadata": {},
   "source": [
    "Queremos obtener un dataFrame con todas las cervezas del catálogo y sus características descritas. Analizamos la página para ver qué tenemos que hacer para conseguirlo"
   ]
  },
  {
   "cell_type": "code",
   "execution_count": 3,
   "metadata": {},
   "outputs": [],
   "source": [
    "# La web tiene 80 páginas con 12 cervezas listadas en cada página."
   ]
  },
  {
   "cell_type": "markdown",
   "metadata": {},
   "source": [
    "Hacemos la consulta (request) y creamos la SOPA inicial:"
   ]
  },
  {
   "cell_type": "code",
   "execution_count": 3,
   "metadata": {},
   "outputs": [],
   "source": [
    "r = requests.get(URL)\n",
    "soup = BeautifulSoup(r.text, 'lxml')"
   ]
  },
  {
   "cell_type": "code",
   "execution_count": 27,
   "metadata": {},
   "outputs": [
    {
     "name": "stdout",
     "output_type": "stream",
     "text": [
      "12\n"
     ]
    }
   ],
   "source": [
    "# Guardamos lista de cervezas\n",
    "cervezas_grid = soup.find_all(class_='product-image')\n",
    "print(len(cervezas_grid))"
   ]
  },
  {
   "cell_type": "code",
   "execution_count": 5,
   "metadata": {},
   "outputs": [
    {
     "data": {
      "text/plain": [
       "['https://www.labirratorium.com/es/inicio/831-arriaca-boris-brew-vikingathor-.html',\n",
       " 'https://www.labirratorium.com/es/cerveza-lambic/284-boon-kriek-2013.html',\n",
       " 'https://www.labirratorium.com/es/cervezas-alemanas/225-stortebeker-schwarz-bier.html',\n",
       " 'https://www.labirratorium.com/es/botella-33cl/199-orval.html',\n",
       " 'https://www.labirratorium.com/es/cervezas-alemanas/184-augustiner-lagerbier-hell.html',\n",
       " 'https://www.labirratorium.com/es/inicio/183-schneider-eisbock.html',\n",
       " 'https://www.labirratorium.com/es/inicio/181-schlenkerla-rauchbier-weizen.html',\n",
       " 'https://www.labirratorium.com/es/inicio/173-samuel-adams-boston-lager.html',\n",
       " 'https://www.labirratorium.com/es/inicio/165-laugar-epa.html',\n",
       " 'https://www.labirratorium.com/es/inicio/82-westmalle-dubbel.html',\n",
       " 'https://www.labirratorium.com/es/inicio/75-duchesse-de-bourgogne.html',\n",
       " 'https://www.labirratorium.com/es/inicio/61-tripel-karmeliet33.html']"
      ]
     },
     "execution_count": 5,
     "metadata": {},
     "output_type": "execute_result"
    }
   ],
   "source": [
    "# necesitamos acceder a cada una de las cervezas del grid:\n",
    "lista_URLs = []\n",
    "for cerveza in cervezas_grid:\n",
    "    # print('Cerveza {} de {}, pag {}/{}'.format(count_beer, len(cervezas_grid), page, len(pages)))\n",
    "    # Para cada cerveza obtenemos su URL, de donde extraeremos toda la info   \n",
    "    URL_cerveza = cerveza.find('a')['href']\n",
    "    lista_URLs.append(URL_cerveza)\n",
    "lista_URLs   "
   ]
  },
  {
   "cell_type": "code",
   "execution_count": 6,
   "metadata": {},
   "outputs": [],
   "source": [
    "# Hacemos un nuevo request para la primera cerveza: \n",
    "r = requests.get(lista_URLs[0])\n",
    "# Creamos una sopa específica con la info de cada cerveza\n",
    "soup_cerveza = BeautifulSoup(r.text, 'lxml')"
   ]
  },
  {
   "cell_type": "code",
   "execution_count": 7,
   "metadata": {},
   "outputs": [
    {
     "name": "stdout",
     "output_type": "stream",
     "text": [
      "SanFrutos Vikingathor Boris Brew\n"
     ]
    }
   ],
   "source": [
    "# Nombre\n",
    "name = soup_cerveza.find(class_='h1 product-detail-name').text\n",
    "print(name)"
   ]
  },
  {
   "cell_type": "code",
   "execution_count": 8,
   "metadata": {},
   "outputs": [
    {
     "name": "stdout",
     "output_type": "stream",
     "text": [
      "3.05\n"
     ]
    }
   ],
   "source": [
    "# Precio\n",
    "price = soup_cerveza.find(class_='current-price').find('span')['content']\n",
    "print(price)"
   ]
  },
  {
   "cell_type": "code",
   "execution_count": 9,
   "metadata": {},
   "outputs": [
    {
     "name": "stdout",
     "output_type": "stream",
     "text": [
      "India Munich Dunkel\n"
     ]
    }
   ],
   "source": [
    "# Descripcion corta\n",
    "try:\n",
    "    descr_short = soup_cerveza.find(class_='description-short').find('p').text\n",
    "except:\n",
    "    descr_short = None\n",
    "print(descr_short)"
   ]
  },
  {
   "cell_type": "code",
   "execution_count": 10,
   "metadata": {},
   "outputs": [
    {
     "name": "stdout",
     "output_type": "stream",
     "text": [
      "Vikingathor ya ha sido galardonada con anterioridad con las Medallas de Plata cosechadas en el European Beer Star de 2011 y 2012 y laMedalla de Plata en el Asia Beer Cup 2013.\n",
      "¿Y qué podemos decir de Vikingathor Boris Brew? Que es una cerveza oscura de baja fermentación lupulizada, con 8,2 grados de alcohol, aunque ligera y de trago fácil, como notaréis al catarla. El lúpulo fresco predomina sobre la malta. Su espuma es cremosa y de color ámbar, con buena retención.\n",
      "Apelando a la nariz, el aroma predominante es la mandarina y la golosina, que se mezcla con la naranja y matices pináceos. La malta torrefacta que aporta el color queda adecuadamente balanceado.\n",
      "Y ojo: que Vikingathor marida, además de con carnes rojas y comidas muy especiadas, con quesos muy maduros.\n",
      "\n",
      "\n"
     ]
    }
   ],
   "source": [
    "# Descripción larga\n",
    "descr_full_list = []\n",
    "descr_full_p = soup_cerveza.find(class_='product-description').find_all('p')\n",
    "for sentence in descr_full_p:\n",
    "    descr_full_list.append(sentence.text)\n",
    "descr_full = \"\\n\".join(descr_full_list)\n",
    "print(descr_full)"
   ]
  },
  {
   "cell_type": "code",
   "execution_count": 11,
   "metadata": {},
   "outputs": [
    {
     "name": "stdout",
     "output_type": "stream",
     "text": [
      "https://www.labirratorium.com/14853-large_default/arriaca-boris-brew-vikingathor-.jpg\n"
     ]
    }
   ],
   "source": [
    "# Imagen\n",
    "image = soup_cerveza.find(class_='js-qv-product-cover img-fluid')['src']\n",
    "print(image)"
   ]
  },
  {
   "cell_type": "code",
   "execution_count": 12,
   "metadata": {},
   "outputs": [
    {
     "name": "stdout",
     "output_type": "stream",
     "text": [
      "Cerveza Sanfrutos\n"
     ]
    }
   ],
   "source": [
    " # Brand\n",
    "try:\n",
    "    brand = soup_cerveza.find(class_='img img-thumbnail manufacturer-logo')['alt']\n",
    "except:\n",
    "    brand = None\n",
    "print(brand)"
   ]
  },
  {
   "cell_type": "code",
   "execution_count": 13,
   "metadata": {},
   "outputs": [
    {
     "name": "stdout",
     "output_type": "stream",
     "text": [
      "831\n"
     ]
    }
   ],
   "source": [
    "# Código de barras\n",
    "try:\n",
    "    barcode = soup_cerveza.find(class_='product-reference').find('span').text\n",
    "except:\n",
    "    barcode = None\n",
    "print(barcode)"
   ]
  },
  {
   "cell_type": "code",
   "execution_count": 16,
   "metadata": {},
   "outputs": [
    {
     "name": "stdout",
     "output_type": "stream",
     "text": [
      "Estilo DUNKEL\n",
      "Origen Segovia\n",
      "% Alc. ALTO (6-9%)\n",
      "% Alc. Exacto 8.2\n",
      "Volumen (cl) 33 Cl\n",
      "Tipo Fermentación Lager (Baja Fermentación)\n",
      "IBU 50-75 Amargor alto\n",
      "IBU Exacto 75\n",
      "Color Marrón\n",
      "Envase Botella\n"
     ]
    }
   ],
   "source": [
    "# Features\n",
    "features_dicc = {}\n",
    "features = soup_cerveza.find(class_ = 'data-sheet')\n",
    "try:\n",
    "    features_dt = features.find_all('dt')\n",
    "    features_dd = features.find_all('dd')\n",
    "    for feature, value in zip(features_dt, features_dd):\n",
    "        print(feature.text, value.text)\n",
    "        features_dicc[feature.text] = value.text\n",
    "except:\n",
    "    features_dicc = {}"
   ]
  },
  {
   "cell_type": "code",
   "execution_count": 17,
   "metadata": {},
   "outputs": [],
   "source": [
    "# Creamos un Id único que os permita diferenciar cada entrada en la BBDD\n",
    "count = 1\n",
    "id_cerv = 'lbt_' + str(count)"
   ]
  },
  {
   "cell_type": "markdown",
   "metadata": {},
   "source": [
    "Ya tenemos todos los datos que queremos de la cerveza: Agrupamos todo en una lista:"
   ]
  },
  {
   "cell_type": "code",
   "execution_count": 18,
   "metadata": {},
   "outputs": [
    {
     "data": {
      "text/plain": [
       "[[('id', 'lbt_1'),\n",
       "  ('name', 'SanFrutos Vikingathor Boris Brew'),\n",
       "  ('price', '3.05'),\n",
       "  ('descr_short', 'India Munich Dunkel'),\n",
       "  ('descr_full',\n",
       "   'Vikingathor ya ha sido galardonada con anterioridad con las\\xa0Medallas de Plata\\xa0cosechadas en el\\xa0European Beer Star\\xa0de 2011 y 2012 y laMedalla de Plata\\xa0en el\\xa0Asia Beer Cup\\xa02013.\\n¿Y qué podemos decir de Vikingathor Boris Brew? Que es una cerveza oscura de baja fermentación lupulizada, con 8,2 grados de alcohol, aunque ligera y de trago fácil, como notaréis al catarla. El lúpulo fresco predomina sobre la malta. Su espuma es cremosa y de color ámbar, con buena retención.\\nApelando a la nariz, el aroma predominante es la mandarina y la golosina, que se mezcla con la naranja y matices pináceos. La malta torrefacta que aporta el color queda adecuadamente balanceado.\\nY ojo: que Vikingathor marida, además de con carnes rojas y comidas muy especiadas, con quesos muy maduros.\\n\\n'),\n",
       "  ('image',\n",
       "   'https://www.labirratorium.com/14853-large_default/arriaca-boris-brew-vikingathor-.jpg'),\n",
       "  ('brand', 'Cerveza Sanfrutos'),\n",
       "  ('barcode', '831'),\n",
       "  ('features',\n",
       "   {'Estilo': 'DUNKEL',\n",
       "    'Origen': 'Segovia',\n",
       "    '% Alc.': 'ALTO (6-9%)',\n",
       "    '% Alc. Exacto': '8.2',\n",
       "    'Volumen (cl)': '33 Cl',\n",
       "    'Tipo Fermentación': 'Lager (Baja Fermentación)',\n",
       "    'IBU': '50-75 Amargor alto',\n",
       "    'IBU Exacto': '75',\n",
       "    'Color': 'Marrón',\n",
       "    'Envase': 'Botella'})]]"
      ]
     },
     "execution_count": 18,
     "metadata": {},
     "output_type": "execute_result"
    }
   ],
   "source": [
    "# Agregamos a una lista\n",
    "lista_cervezas = []\n",
    "lista_cervezas.append([\n",
    "    ('id', id_cerv),\n",
    "    ('name', name), \n",
    "    ('price', price),\n",
    "    ('descr_short', descr_short),\n",
    "    ('descr_full', descr_full),\n",
    "    ('image', image),\n",
    "    ('brand', brand),\n",
    "    ('barcode', barcode),\n",
    "    ('features', features_dicc)\n",
    "    ])       \n",
    "lista_cervezas"
   ]
  },
  {
   "cell_type": "markdown",
   "metadata": {},
   "source": [
    "### Ya sabemos obtener todos los datos que nos interesan de una cerveza, ahora tenemos que aplicar esta lógica para obtener todas las demás "
   ]
  },
  {
   "cell_type": "code",
   "execution_count": 19,
   "metadata": {},
   "outputs": [
    {
     "name": "stdout",
     "output_type": "stream",
     "text": [
      "Cerveza 1 de 12, pag 1/80\n",
      "Cerveza 2 de 12, pag 1/80\n",
      "Cerveza 3 de 12, pag 1/80\n",
      "Cerveza 4 de 12, pag 1/80\n",
      "Cerveza 5 de 12, pag 1/80\n",
      "Cerveza 6 de 12, pag 1/80\n",
      "Cerveza 7 de 12, pag 1/80\n",
      "Cerveza 8 de 12, pag 1/80\n",
      "Cerveza 9 de 12, pag 1/80\n",
      "Cerveza 10 de 12, pag 1/80\n",
      "Cerveza 11 de 12, pag 1/80\n",
      "Cerveza 12 de 12, pag 1/80\n",
      "Cerveza 1 de 12, pag 2/80\n",
      "Cerveza 2 de 12, pag 2/80\n",
      "Cerveza 3 de 12, pag 2/80\n",
      "Cerveza 4 de 12, pag 2/80\n",
      "Cerveza 5 de 12, pag 2/80\n",
      "Cerveza 6 de 12, pag 2/80\n",
      "Cerveza 7 de 12, pag 2/80\n",
      "Cerveza 8 de 12, pag 2/80\n",
      "Cerveza 9 de 12, pag 2/80\n",
      "Cerveza 10 de 12, pag 2/80\n",
      "Cerveza 11 de 12, pag 2/80\n",
      "Cerveza 12 de 12, pag 2/80\n",
      "Cerveza 1 de 12, pag 3/80\n",
      "Cerveza 2 de 12, pag 3/80\n",
      "Cerveza 3 de 12, pag 3/80\n",
      "Cerveza 4 de 12, pag 3/80\n",
      "Cerveza 5 de 12, pag 3/80\n",
      "Cerveza 6 de 12, pag 3/80\n",
      "Cerveza 7 de 12, pag 3/80\n",
      "Cerveza 8 de 12, pag 3/80\n",
      "Cerveza 9 de 12, pag 3/80\n"
     ]
    },
    {
     "ename": "KeyboardInterrupt",
     "evalue": "",
     "output_type": "error",
     "traceback": [
      "\u001b[1;31m---------------------------------------------------------------------------\u001b[0m",
      "\u001b[1;31mKeyboardInterrupt\u001b[0m                         Traceback (most recent call last)",
      "\u001b[1;32m<ipython-input-19-53cf68387896>\u001b[0m in \u001b[0;36m<module>\u001b[1;34m\u001b[0m\n\u001b[0;32m     18\u001b[0m \u001b[1;33m\u001b[0m\u001b[0m\n\u001b[0;32m     19\u001b[0m         \u001b[0mURL_cerveza\u001b[0m \u001b[1;33m=\u001b[0m \u001b[0mcerveza\u001b[0m\u001b[1;33m.\u001b[0m\u001b[0mfind\u001b[0m\u001b[1;33m(\u001b[0m\u001b[1;34m'a'\u001b[0m\u001b[1;33m)\u001b[0m\u001b[1;33m[\u001b[0m\u001b[1;34m'href'\u001b[0m\u001b[1;33m]\u001b[0m\u001b[1;33m\u001b[0m\u001b[1;33m\u001b[0m\u001b[0m\n\u001b[1;32m---> 20\u001b[1;33m         \u001b[0mr\u001b[0m \u001b[1;33m=\u001b[0m \u001b[0mrequests\u001b[0m\u001b[1;33m.\u001b[0m\u001b[0mget\u001b[0m\u001b[1;33m(\u001b[0m\u001b[0mURL_cerveza\u001b[0m\u001b[1;33m)\u001b[0m\u001b[1;33m\u001b[0m\u001b[1;33m\u001b[0m\u001b[0m\n\u001b[0m\u001b[0;32m     21\u001b[0m         \u001b[0msoup_cerveza\u001b[0m \u001b[1;33m=\u001b[0m \u001b[0mBeautifulSoup\u001b[0m\u001b[1;33m(\u001b[0m\u001b[0mr\u001b[0m\u001b[1;33m.\u001b[0m\u001b[0mtext\u001b[0m\u001b[1;33m,\u001b[0m \u001b[1;34m'lxml'\u001b[0m\u001b[1;33m)\u001b[0m\u001b[1;33m\u001b[0m\u001b[1;33m\u001b[0m\u001b[0m\n\u001b[0;32m     22\u001b[0m \u001b[1;33m\u001b[0m\u001b[0m\n",
      "\u001b[1;32m~\\AppData\\Roaming\\Python\\Python38\\site-packages\\requests\\api.py\u001b[0m in \u001b[0;36mget\u001b[1;34m(url, params, **kwargs)\u001b[0m\n\u001b[0;32m     74\u001b[0m \u001b[1;33m\u001b[0m\u001b[0m\n\u001b[0;32m     75\u001b[0m     \u001b[0mkwargs\u001b[0m\u001b[1;33m.\u001b[0m\u001b[0msetdefault\u001b[0m\u001b[1;33m(\u001b[0m\u001b[1;34m'allow_redirects'\u001b[0m\u001b[1;33m,\u001b[0m \u001b[1;32mTrue\u001b[0m\u001b[1;33m)\u001b[0m\u001b[1;33m\u001b[0m\u001b[1;33m\u001b[0m\u001b[0m\n\u001b[1;32m---> 76\u001b[1;33m     \u001b[1;32mreturn\u001b[0m \u001b[0mrequest\u001b[0m\u001b[1;33m(\u001b[0m\u001b[1;34m'get'\u001b[0m\u001b[1;33m,\u001b[0m \u001b[0murl\u001b[0m\u001b[1;33m,\u001b[0m \u001b[0mparams\u001b[0m\u001b[1;33m=\u001b[0m\u001b[0mparams\u001b[0m\u001b[1;33m,\u001b[0m \u001b[1;33m**\u001b[0m\u001b[0mkwargs\u001b[0m\u001b[1;33m)\u001b[0m\u001b[1;33m\u001b[0m\u001b[1;33m\u001b[0m\u001b[0m\n\u001b[0m\u001b[0;32m     77\u001b[0m \u001b[1;33m\u001b[0m\u001b[0m\n\u001b[0;32m     78\u001b[0m \u001b[1;33m\u001b[0m\u001b[0m\n",
      "\u001b[1;32m~\\AppData\\Roaming\\Python\\Python38\\site-packages\\requests\\api.py\u001b[0m in \u001b[0;36mrequest\u001b[1;34m(method, url, **kwargs)\u001b[0m\n\u001b[0;32m     59\u001b[0m     \u001b[1;31m# cases, and look like a memory leak in others.\u001b[0m\u001b[1;33m\u001b[0m\u001b[1;33m\u001b[0m\u001b[1;33m\u001b[0m\u001b[0m\n\u001b[0;32m     60\u001b[0m     \u001b[1;32mwith\u001b[0m \u001b[0msessions\u001b[0m\u001b[1;33m.\u001b[0m\u001b[0mSession\u001b[0m\u001b[1;33m(\u001b[0m\u001b[1;33m)\u001b[0m \u001b[1;32mas\u001b[0m \u001b[0msession\u001b[0m\u001b[1;33m:\u001b[0m\u001b[1;33m\u001b[0m\u001b[1;33m\u001b[0m\u001b[0m\n\u001b[1;32m---> 61\u001b[1;33m         \u001b[1;32mreturn\u001b[0m \u001b[0msession\u001b[0m\u001b[1;33m.\u001b[0m\u001b[0mrequest\u001b[0m\u001b[1;33m(\u001b[0m\u001b[0mmethod\u001b[0m\u001b[1;33m=\u001b[0m\u001b[0mmethod\u001b[0m\u001b[1;33m,\u001b[0m \u001b[0murl\u001b[0m\u001b[1;33m=\u001b[0m\u001b[0murl\u001b[0m\u001b[1;33m,\u001b[0m \u001b[1;33m**\u001b[0m\u001b[0mkwargs\u001b[0m\u001b[1;33m)\u001b[0m\u001b[1;33m\u001b[0m\u001b[1;33m\u001b[0m\u001b[0m\n\u001b[0m\u001b[0;32m     62\u001b[0m \u001b[1;33m\u001b[0m\u001b[0m\n\u001b[0;32m     63\u001b[0m \u001b[1;33m\u001b[0m\u001b[0m\n",
      "\u001b[1;32m~\\AppData\\Roaming\\Python\\Python38\\site-packages\\requests\\sessions.py\u001b[0m in \u001b[0;36mrequest\u001b[1;34m(self, method, url, params, data, headers, cookies, files, auth, timeout, allow_redirects, proxies, hooks, stream, verify, cert, json)\u001b[0m\n\u001b[0;32m    540\u001b[0m         }\n\u001b[0;32m    541\u001b[0m         \u001b[0msend_kwargs\u001b[0m\u001b[1;33m.\u001b[0m\u001b[0mupdate\u001b[0m\u001b[1;33m(\u001b[0m\u001b[0msettings\u001b[0m\u001b[1;33m)\u001b[0m\u001b[1;33m\u001b[0m\u001b[1;33m\u001b[0m\u001b[0m\n\u001b[1;32m--> 542\u001b[1;33m         \u001b[0mresp\u001b[0m \u001b[1;33m=\u001b[0m \u001b[0mself\u001b[0m\u001b[1;33m.\u001b[0m\u001b[0msend\u001b[0m\u001b[1;33m(\u001b[0m\u001b[0mprep\u001b[0m\u001b[1;33m,\u001b[0m \u001b[1;33m**\u001b[0m\u001b[0msend_kwargs\u001b[0m\u001b[1;33m)\u001b[0m\u001b[1;33m\u001b[0m\u001b[1;33m\u001b[0m\u001b[0m\n\u001b[0m\u001b[0;32m    543\u001b[0m \u001b[1;33m\u001b[0m\u001b[0m\n\u001b[0;32m    544\u001b[0m         \u001b[1;32mreturn\u001b[0m \u001b[0mresp\u001b[0m\u001b[1;33m\u001b[0m\u001b[1;33m\u001b[0m\u001b[0m\n",
      "\u001b[1;32m~\\AppData\\Roaming\\Python\\Python38\\site-packages\\requests\\sessions.py\u001b[0m in \u001b[0;36msend\u001b[1;34m(self, request, **kwargs)\u001b[0m\n\u001b[0;32m    653\u001b[0m \u001b[1;33m\u001b[0m\u001b[0m\n\u001b[0;32m    654\u001b[0m         \u001b[1;31m# Send the request\u001b[0m\u001b[1;33m\u001b[0m\u001b[1;33m\u001b[0m\u001b[1;33m\u001b[0m\u001b[0m\n\u001b[1;32m--> 655\u001b[1;33m         \u001b[0mr\u001b[0m \u001b[1;33m=\u001b[0m \u001b[0madapter\u001b[0m\u001b[1;33m.\u001b[0m\u001b[0msend\u001b[0m\u001b[1;33m(\u001b[0m\u001b[0mrequest\u001b[0m\u001b[1;33m,\u001b[0m \u001b[1;33m**\u001b[0m\u001b[0mkwargs\u001b[0m\u001b[1;33m)\u001b[0m\u001b[1;33m\u001b[0m\u001b[1;33m\u001b[0m\u001b[0m\n\u001b[0m\u001b[0;32m    656\u001b[0m \u001b[1;33m\u001b[0m\u001b[0m\n\u001b[0;32m    657\u001b[0m         \u001b[1;31m# Total elapsed time of the request (approximately)\u001b[0m\u001b[1;33m\u001b[0m\u001b[1;33m\u001b[0m\u001b[1;33m\u001b[0m\u001b[0m\n",
      "\u001b[1;32m~\\AppData\\Roaming\\Python\\Python38\\site-packages\\requests\\adapters.py\u001b[0m in \u001b[0;36msend\u001b[1;34m(self, request, stream, timeout, verify, cert, proxies)\u001b[0m\n\u001b[0;32m    437\u001b[0m         \u001b[1;32mtry\u001b[0m\u001b[1;33m:\u001b[0m\u001b[1;33m\u001b[0m\u001b[1;33m\u001b[0m\u001b[0m\n\u001b[0;32m    438\u001b[0m             \u001b[1;32mif\u001b[0m \u001b[1;32mnot\u001b[0m \u001b[0mchunked\u001b[0m\u001b[1;33m:\u001b[0m\u001b[1;33m\u001b[0m\u001b[1;33m\u001b[0m\u001b[0m\n\u001b[1;32m--> 439\u001b[1;33m                 resp = conn.urlopen(\n\u001b[0m\u001b[0;32m    440\u001b[0m                     \u001b[0mmethod\u001b[0m\u001b[1;33m=\u001b[0m\u001b[0mrequest\u001b[0m\u001b[1;33m.\u001b[0m\u001b[0mmethod\u001b[0m\u001b[1;33m,\u001b[0m\u001b[1;33m\u001b[0m\u001b[1;33m\u001b[0m\u001b[0m\n\u001b[0;32m    441\u001b[0m                     \u001b[0murl\u001b[0m\u001b[1;33m=\u001b[0m\u001b[0murl\u001b[0m\u001b[1;33m,\u001b[0m\u001b[1;33m\u001b[0m\u001b[1;33m\u001b[0m\u001b[0m\n",
      "\u001b[1;32m~\\AppData\\Roaming\\Python\\Python38\\site-packages\\urllib3\\connectionpool.py\u001b[0m in \u001b[0;36murlopen\u001b[1;34m(self, method, url, body, headers, retries, redirect, assert_same_host, timeout, pool_timeout, release_conn, chunked, body_pos, **response_kw)\u001b[0m\n\u001b[0;32m    697\u001b[0m \u001b[1;33m\u001b[0m\u001b[0m\n\u001b[0;32m    698\u001b[0m             \u001b[1;31m# Make the request on the httplib connection object.\u001b[0m\u001b[1;33m\u001b[0m\u001b[1;33m\u001b[0m\u001b[1;33m\u001b[0m\u001b[0m\n\u001b[1;32m--> 699\u001b[1;33m             httplib_response = self._make_request(\n\u001b[0m\u001b[0;32m    700\u001b[0m                 \u001b[0mconn\u001b[0m\u001b[1;33m,\u001b[0m\u001b[1;33m\u001b[0m\u001b[1;33m\u001b[0m\u001b[0m\n\u001b[0;32m    701\u001b[0m                 \u001b[0mmethod\u001b[0m\u001b[1;33m,\u001b[0m\u001b[1;33m\u001b[0m\u001b[1;33m\u001b[0m\u001b[0m\n",
      "\u001b[1;32m~\\AppData\\Roaming\\Python\\Python38\\site-packages\\urllib3\\connectionpool.py\u001b[0m in \u001b[0;36m_make_request\u001b[1;34m(self, conn, method, url, timeout, chunked, **httplib_request_kw)\u001b[0m\n\u001b[0;32m    443\u001b[0m                     \u001b[1;31m# Python 3 (including for exceptions like SystemExit).\u001b[0m\u001b[1;33m\u001b[0m\u001b[1;33m\u001b[0m\u001b[1;33m\u001b[0m\u001b[0m\n\u001b[0;32m    444\u001b[0m                     \u001b[1;31m# Otherwise it looks like a bug in the code.\u001b[0m\u001b[1;33m\u001b[0m\u001b[1;33m\u001b[0m\u001b[1;33m\u001b[0m\u001b[0m\n\u001b[1;32m--> 445\u001b[1;33m                     \u001b[0msix\u001b[0m\u001b[1;33m.\u001b[0m\u001b[0mraise_from\u001b[0m\u001b[1;33m(\u001b[0m\u001b[0me\u001b[0m\u001b[1;33m,\u001b[0m \u001b[1;32mNone\u001b[0m\u001b[1;33m)\u001b[0m\u001b[1;33m\u001b[0m\u001b[1;33m\u001b[0m\u001b[0m\n\u001b[0m\u001b[0;32m    446\u001b[0m         \u001b[1;32mexcept\u001b[0m \u001b[1;33m(\u001b[0m\u001b[0mSocketTimeout\u001b[0m\u001b[1;33m,\u001b[0m \u001b[0mBaseSSLError\u001b[0m\u001b[1;33m,\u001b[0m \u001b[0mSocketError\u001b[0m\u001b[1;33m)\u001b[0m \u001b[1;32mas\u001b[0m \u001b[0me\u001b[0m\u001b[1;33m:\u001b[0m\u001b[1;33m\u001b[0m\u001b[1;33m\u001b[0m\u001b[0m\n\u001b[0;32m    447\u001b[0m             \u001b[0mself\u001b[0m\u001b[1;33m.\u001b[0m\u001b[0m_raise_timeout\u001b[0m\u001b[1;33m(\u001b[0m\u001b[0merr\u001b[0m\u001b[1;33m=\u001b[0m\u001b[0me\u001b[0m\u001b[1;33m,\u001b[0m \u001b[0murl\u001b[0m\u001b[1;33m=\u001b[0m\u001b[0murl\u001b[0m\u001b[1;33m,\u001b[0m \u001b[0mtimeout_value\u001b[0m\u001b[1;33m=\u001b[0m\u001b[0mread_timeout\u001b[0m\u001b[1;33m)\u001b[0m\u001b[1;33m\u001b[0m\u001b[1;33m\u001b[0m\u001b[0m\n",
      "\u001b[1;32m~\\AppData\\Roaming\\Python\\Python38\\site-packages\\urllib3\\packages\\six.py\u001b[0m in \u001b[0;36mraise_from\u001b[1;34m(value, from_value)\u001b[0m\n",
      "\u001b[1;32m~\\AppData\\Roaming\\Python\\Python38\\site-packages\\urllib3\\connectionpool.py\u001b[0m in \u001b[0;36m_make_request\u001b[1;34m(self, conn, method, url, timeout, chunked, **httplib_request_kw)\u001b[0m\n\u001b[0;32m    438\u001b[0m                 \u001b[1;31m# Python 3\u001b[0m\u001b[1;33m\u001b[0m\u001b[1;33m\u001b[0m\u001b[1;33m\u001b[0m\u001b[0m\n\u001b[0;32m    439\u001b[0m                 \u001b[1;32mtry\u001b[0m\u001b[1;33m:\u001b[0m\u001b[1;33m\u001b[0m\u001b[1;33m\u001b[0m\u001b[0m\n\u001b[1;32m--> 440\u001b[1;33m                     \u001b[0mhttplib_response\u001b[0m \u001b[1;33m=\u001b[0m \u001b[0mconn\u001b[0m\u001b[1;33m.\u001b[0m\u001b[0mgetresponse\u001b[0m\u001b[1;33m(\u001b[0m\u001b[1;33m)\u001b[0m\u001b[1;33m\u001b[0m\u001b[1;33m\u001b[0m\u001b[0m\n\u001b[0m\u001b[0;32m    441\u001b[0m                 \u001b[1;32mexcept\u001b[0m \u001b[0mBaseException\u001b[0m \u001b[1;32mas\u001b[0m \u001b[0me\u001b[0m\u001b[1;33m:\u001b[0m\u001b[1;33m\u001b[0m\u001b[1;33m\u001b[0m\u001b[0m\n\u001b[0;32m    442\u001b[0m                     \u001b[1;31m# Remove the TypeError from the exception chain in\u001b[0m\u001b[1;33m\u001b[0m\u001b[1;33m\u001b[0m\u001b[1;33m\u001b[0m\u001b[0m\n",
      "\u001b[1;32m~\\AppData\\Local\\Programs\\Python\\Python38\\lib\\http\\client.py\u001b[0m in \u001b[0;36mgetresponse\u001b[1;34m(self)\u001b[0m\n\u001b[0;32m   1345\u001b[0m         \u001b[1;32mtry\u001b[0m\u001b[1;33m:\u001b[0m\u001b[1;33m\u001b[0m\u001b[1;33m\u001b[0m\u001b[0m\n\u001b[0;32m   1346\u001b[0m             \u001b[1;32mtry\u001b[0m\u001b[1;33m:\u001b[0m\u001b[1;33m\u001b[0m\u001b[1;33m\u001b[0m\u001b[0m\n\u001b[1;32m-> 1347\u001b[1;33m                 \u001b[0mresponse\u001b[0m\u001b[1;33m.\u001b[0m\u001b[0mbegin\u001b[0m\u001b[1;33m(\u001b[0m\u001b[1;33m)\u001b[0m\u001b[1;33m\u001b[0m\u001b[1;33m\u001b[0m\u001b[0m\n\u001b[0m\u001b[0;32m   1348\u001b[0m             \u001b[1;32mexcept\u001b[0m \u001b[0mConnectionError\u001b[0m\u001b[1;33m:\u001b[0m\u001b[1;33m\u001b[0m\u001b[1;33m\u001b[0m\u001b[0m\n\u001b[0;32m   1349\u001b[0m                 \u001b[0mself\u001b[0m\u001b[1;33m.\u001b[0m\u001b[0mclose\u001b[0m\u001b[1;33m(\u001b[0m\u001b[1;33m)\u001b[0m\u001b[1;33m\u001b[0m\u001b[1;33m\u001b[0m\u001b[0m\n",
      "\u001b[1;32m~\\AppData\\Local\\Programs\\Python\\Python38\\lib\\http\\client.py\u001b[0m in \u001b[0;36mbegin\u001b[1;34m(self)\u001b[0m\n\u001b[0;32m    305\u001b[0m         \u001b[1;31m# read until we get a non-100 response\u001b[0m\u001b[1;33m\u001b[0m\u001b[1;33m\u001b[0m\u001b[1;33m\u001b[0m\u001b[0m\n\u001b[0;32m    306\u001b[0m         \u001b[1;32mwhile\u001b[0m \u001b[1;32mTrue\u001b[0m\u001b[1;33m:\u001b[0m\u001b[1;33m\u001b[0m\u001b[1;33m\u001b[0m\u001b[0m\n\u001b[1;32m--> 307\u001b[1;33m             \u001b[0mversion\u001b[0m\u001b[1;33m,\u001b[0m \u001b[0mstatus\u001b[0m\u001b[1;33m,\u001b[0m \u001b[0mreason\u001b[0m \u001b[1;33m=\u001b[0m \u001b[0mself\u001b[0m\u001b[1;33m.\u001b[0m\u001b[0m_read_status\u001b[0m\u001b[1;33m(\u001b[0m\u001b[1;33m)\u001b[0m\u001b[1;33m\u001b[0m\u001b[1;33m\u001b[0m\u001b[0m\n\u001b[0m\u001b[0;32m    308\u001b[0m             \u001b[1;32mif\u001b[0m \u001b[0mstatus\u001b[0m \u001b[1;33m!=\u001b[0m \u001b[0mCONTINUE\u001b[0m\u001b[1;33m:\u001b[0m\u001b[1;33m\u001b[0m\u001b[1;33m\u001b[0m\u001b[0m\n\u001b[0;32m    309\u001b[0m                 \u001b[1;32mbreak\u001b[0m\u001b[1;33m\u001b[0m\u001b[1;33m\u001b[0m\u001b[0m\n",
      "\u001b[1;32m~\\AppData\\Local\\Programs\\Python\\Python38\\lib\\http\\client.py\u001b[0m in \u001b[0;36m_read_status\u001b[1;34m(self)\u001b[0m\n\u001b[0;32m    266\u001b[0m \u001b[1;33m\u001b[0m\u001b[0m\n\u001b[0;32m    267\u001b[0m     \u001b[1;32mdef\u001b[0m \u001b[0m_read_status\u001b[0m\u001b[1;33m(\u001b[0m\u001b[0mself\u001b[0m\u001b[1;33m)\u001b[0m\u001b[1;33m:\u001b[0m\u001b[1;33m\u001b[0m\u001b[1;33m\u001b[0m\u001b[0m\n\u001b[1;32m--> 268\u001b[1;33m         \u001b[0mline\u001b[0m \u001b[1;33m=\u001b[0m \u001b[0mstr\u001b[0m\u001b[1;33m(\u001b[0m\u001b[0mself\u001b[0m\u001b[1;33m.\u001b[0m\u001b[0mfp\u001b[0m\u001b[1;33m.\u001b[0m\u001b[0mreadline\u001b[0m\u001b[1;33m(\u001b[0m\u001b[0m_MAXLINE\u001b[0m \u001b[1;33m+\u001b[0m \u001b[1;36m1\u001b[0m\u001b[1;33m)\u001b[0m\u001b[1;33m,\u001b[0m \u001b[1;34m\"iso-8859-1\"\u001b[0m\u001b[1;33m)\u001b[0m\u001b[1;33m\u001b[0m\u001b[1;33m\u001b[0m\u001b[0m\n\u001b[0m\u001b[0;32m    269\u001b[0m         \u001b[1;32mif\u001b[0m \u001b[0mlen\u001b[0m\u001b[1;33m(\u001b[0m\u001b[0mline\u001b[0m\u001b[1;33m)\u001b[0m \u001b[1;33m>\u001b[0m \u001b[0m_MAXLINE\u001b[0m\u001b[1;33m:\u001b[0m\u001b[1;33m\u001b[0m\u001b[1;33m\u001b[0m\u001b[0m\n\u001b[0;32m    270\u001b[0m             \u001b[1;32mraise\u001b[0m \u001b[0mLineTooLong\u001b[0m\u001b[1;33m(\u001b[0m\u001b[1;34m\"status line\"\u001b[0m\u001b[1;33m)\u001b[0m\u001b[1;33m\u001b[0m\u001b[1;33m\u001b[0m\u001b[0m\n",
      "\u001b[1;32m~\\AppData\\Local\\Programs\\Python\\Python38\\lib\\socket.py\u001b[0m in \u001b[0;36mreadinto\u001b[1;34m(self, b)\u001b[0m\n\u001b[0;32m    667\u001b[0m         \u001b[1;32mwhile\u001b[0m \u001b[1;32mTrue\u001b[0m\u001b[1;33m:\u001b[0m\u001b[1;33m\u001b[0m\u001b[1;33m\u001b[0m\u001b[0m\n\u001b[0;32m    668\u001b[0m             \u001b[1;32mtry\u001b[0m\u001b[1;33m:\u001b[0m\u001b[1;33m\u001b[0m\u001b[1;33m\u001b[0m\u001b[0m\n\u001b[1;32m--> 669\u001b[1;33m                 \u001b[1;32mreturn\u001b[0m \u001b[0mself\u001b[0m\u001b[1;33m.\u001b[0m\u001b[0m_sock\u001b[0m\u001b[1;33m.\u001b[0m\u001b[0mrecv_into\u001b[0m\u001b[1;33m(\u001b[0m\u001b[0mb\u001b[0m\u001b[1;33m)\u001b[0m\u001b[1;33m\u001b[0m\u001b[1;33m\u001b[0m\u001b[0m\n\u001b[0m\u001b[0;32m    670\u001b[0m             \u001b[1;32mexcept\u001b[0m \u001b[0mtimeout\u001b[0m\u001b[1;33m:\u001b[0m\u001b[1;33m\u001b[0m\u001b[1;33m\u001b[0m\u001b[0m\n\u001b[0;32m    671\u001b[0m                 \u001b[0mself\u001b[0m\u001b[1;33m.\u001b[0m\u001b[0m_timeout_occurred\u001b[0m \u001b[1;33m=\u001b[0m \u001b[1;32mTrue\u001b[0m\u001b[1;33m\u001b[0m\u001b[1;33m\u001b[0m\u001b[0m\n",
      "\u001b[1;32m~\\AppData\\Local\\Programs\\Python\\Python38\\lib\\ssl.py\u001b[0m in \u001b[0;36mrecv_into\u001b[1;34m(self, buffer, nbytes, flags)\u001b[0m\n\u001b[0;32m   1239\u001b[0m                   \u001b[1;34m\"non-zero flags not allowed in calls to recv_into() on %s\"\u001b[0m \u001b[1;33m%\u001b[0m\u001b[1;33m\u001b[0m\u001b[1;33m\u001b[0m\u001b[0m\n\u001b[0;32m   1240\u001b[0m                   self.__class__)\n\u001b[1;32m-> 1241\u001b[1;33m             \u001b[1;32mreturn\u001b[0m \u001b[0mself\u001b[0m\u001b[1;33m.\u001b[0m\u001b[0mread\u001b[0m\u001b[1;33m(\u001b[0m\u001b[0mnbytes\u001b[0m\u001b[1;33m,\u001b[0m \u001b[0mbuffer\u001b[0m\u001b[1;33m)\u001b[0m\u001b[1;33m\u001b[0m\u001b[1;33m\u001b[0m\u001b[0m\n\u001b[0m\u001b[0;32m   1242\u001b[0m         \u001b[1;32melse\u001b[0m\u001b[1;33m:\u001b[0m\u001b[1;33m\u001b[0m\u001b[1;33m\u001b[0m\u001b[0m\n\u001b[0;32m   1243\u001b[0m             \u001b[1;32mreturn\u001b[0m \u001b[0msuper\u001b[0m\u001b[1;33m(\u001b[0m\u001b[1;33m)\u001b[0m\u001b[1;33m.\u001b[0m\u001b[0mrecv_into\u001b[0m\u001b[1;33m(\u001b[0m\u001b[0mbuffer\u001b[0m\u001b[1;33m,\u001b[0m \u001b[0mnbytes\u001b[0m\u001b[1;33m,\u001b[0m \u001b[0mflags\u001b[0m\u001b[1;33m)\u001b[0m\u001b[1;33m\u001b[0m\u001b[1;33m\u001b[0m\u001b[0m\n",
      "\u001b[1;32m~\\AppData\\Local\\Programs\\Python\\Python38\\lib\\ssl.py\u001b[0m in \u001b[0;36mread\u001b[1;34m(self, len, buffer)\u001b[0m\n\u001b[0;32m   1097\u001b[0m         \u001b[1;32mtry\u001b[0m\u001b[1;33m:\u001b[0m\u001b[1;33m\u001b[0m\u001b[1;33m\u001b[0m\u001b[0m\n\u001b[0;32m   1098\u001b[0m             \u001b[1;32mif\u001b[0m \u001b[0mbuffer\u001b[0m \u001b[1;32mis\u001b[0m \u001b[1;32mnot\u001b[0m \u001b[1;32mNone\u001b[0m\u001b[1;33m:\u001b[0m\u001b[1;33m\u001b[0m\u001b[1;33m\u001b[0m\u001b[0m\n\u001b[1;32m-> 1099\u001b[1;33m                 \u001b[1;32mreturn\u001b[0m \u001b[0mself\u001b[0m\u001b[1;33m.\u001b[0m\u001b[0m_sslobj\u001b[0m\u001b[1;33m.\u001b[0m\u001b[0mread\u001b[0m\u001b[1;33m(\u001b[0m\u001b[0mlen\u001b[0m\u001b[1;33m,\u001b[0m \u001b[0mbuffer\u001b[0m\u001b[1;33m)\u001b[0m\u001b[1;33m\u001b[0m\u001b[1;33m\u001b[0m\u001b[0m\n\u001b[0m\u001b[0;32m   1100\u001b[0m             \u001b[1;32melse\u001b[0m\u001b[1;33m:\u001b[0m\u001b[1;33m\u001b[0m\u001b[1;33m\u001b[0m\u001b[0m\n\u001b[0;32m   1101\u001b[0m                 \u001b[1;32mreturn\u001b[0m \u001b[0mself\u001b[0m\u001b[1;33m.\u001b[0m\u001b[0m_sslobj\u001b[0m\u001b[1;33m.\u001b[0m\u001b[0mread\u001b[0m\u001b[1;33m(\u001b[0m\u001b[0mlen\u001b[0m\u001b[1;33m)\u001b[0m\u001b[1;33m\u001b[0m\u001b[1;33m\u001b[0m\u001b[0m\n",
      "\u001b[1;31mKeyboardInterrupt\u001b[0m: "
     ]
    }
   ],
   "source": [
    "pages = np.arange(1, 81)\n",
    "count = 1\n",
    "lista_cervezas = []\n",
    "\n",
    "for page in pages:\n",
    "    \n",
    "    URL = 'https://www.labirratorium.com/es/67-cervezas-por-estilo?page=' + str(page)\n",
    "    r = requests.get(URL)\n",
    "    soup = BeautifulSoup(r.text, 'lxml')\n",
    "    cervezas_grid = soup.find_all(class_='product-image')\n",
    "    \n",
    "    count_beer = 1 # para el print de seguimiento de descarga\n",
    "    \n",
    "    for cerveza in cervezas_grid:\n",
    "        # Print de seguimiento de descarga:\n",
    "        print('Cerveza {} de {}, pag {}/{}'.format(\n",
    "            count_beer, len(cervezas_grid), page, len(pages)))\n",
    "\n",
    "        URL_cerveza = cerveza.find('a')['href']\n",
    "        r = requests.get(URL_cerveza)\n",
    "        soup_cerveza = BeautifulSoup(r.text, 'lxml')\n",
    "        \n",
    "        id_cerv = 'lbt_' + str(count)\n",
    "        \n",
    "        name = soup_cerveza.find(class_='h1 product-detail-name').text   \n",
    "\n",
    "        price = soup_cerveza.find(class_='current-price').find('span')['content']\n",
    "\n",
    "        try:\n",
    "            descr_short = soup_cerveza.find(class_='description-short').find('p').text\n",
    "        except:\n",
    "            descr_short = None\n",
    "\n",
    "        descr_full_list = []\n",
    "        descr_full_p = soup_cerveza.find(class_='product-description').find_all('p')\n",
    "        for sentence in descr_full_p:\n",
    "            descr_full_list.append(sentence.text)\n",
    "            \n",
    "        descr_full = \"\\n\".join(descr_full_list)\n",
    "        \n",
    "        image = soup_cerveza.find(class_='js-qv-product-cover img-fluid')['src']\n",
    "\n",
    "        try:\n",
    "            brand = soup_cerveza.find(class_='img img-thumbnail manufacturer-logo')['alt']\n",
    "        except:\n",
    "            brand = None\n",
    "\n",
    "        try:\n",
    "            barcode = soup_cerveza.find(class_='product-reference').find('span').text\n",
    "        except:\n",
    "            barcode = None\n",
    "\n",
    "        features_dicc = {}\n",
    "        features = soup_cerveza.find(class_ = 'data-sheet')\n",
    "        try:\n",
    "            features_dt = features.find_all('dt')\n",
    "            features_dd = features.find_all('dd')\n",
    "            for feature, value in zip(features_dt, features_dd):\n",
    "                #print(feature.text, value.text)\n",
    "                features_dicc[feature.text] = value.text\n",
    "        except:\n",
    "            features_dicc = {}\n",
    "\n",
    "        lista_cervezas.append([\n",
    "            ('id', id_cerv),\n",
    "            ('name', name), \n",
    "            ('price', price),\n",
    "            ('descr_short', descr_short),\n",
    "            ('descr_full', descr_full),\n",
    "            ('image', image),\n",
    "            ('brand', brand),\n",
    "            ('barcode', barcode),\n",
    "            ('features', features_dicc)\n",
    "        ])        \n",
    "        \n",
    "        # Pasamos al siguiente id\n",
    "        count += 1\n",
    "        count_beer += 1"
   ]
  },
  {
   "cell_type": "code",
   "execution_count": 25,
   "metadata": {},
   "outputs": [
    {
     "data": {
      "text/plain": [
       "[('id', 'lbt_1'),\n",
       " ('name', 'SanFrutos Vikingathor Boris Brew'),\n",
       " ('price', '3.05'),\n",
       " ('descr_short', 'India Munich Dunkel'),\n",
       " ('descr_full',\n",
       "  'Vikingathor ya ha sido galardonada con anterioridad con las\\xa0Medallas de Plata\\xa0cosechadas en el\\xa0European Beer Star\\xa0de 2011 y 2012 y laMedalla de Plata\\xa0en el\\xa0Asia Beer Cup\\xa02013.\\n¿Y qué podemos decir de Vikingathor Boris Brew? Que es una cerveza oscura de baja fermentación lupulizada, con 8,2 grados de alcohol, aunque ligera y de trago fácil, como notaréis al catarla. El lúpulo fresco predomina sobre la malta. Su espuma es cremosa y de color ámbar, con buena retención.\\nApelando a la nariz, el aroma predominante es la mandarina y la golosina, que se mezcla con la naranja y matices pináceos. La malta torrefacta que aporta el color queda adecuadamente balanceado.\\nY ojo: que Vikingathor marida, además de con carnes rojas y comidas muy especiadas, con quesos muy maduros.\\n\\n'),\n",
       " ('image',\n",
       "  'https://www.labirratorium.com/14853-large_default/arriaca-boris-brew-vikingathor-.jpg'),\n",
       " ('brand', 'Cerveza Sanfrutos'),\n",
       " ('barcode', '831'),\n",
       " ('features',\n",
       "  {'Estilo': 'DUNKEL',\n",
       "   'Origen': 'Segovia',\n",
       "   '% Alc.': 'ALTO (6-9%)',\n",
       "   '% Alc. Exacto': '8.2',\n",
       "   'Volumen (cl)': '33 Cl',\n",
       "   'Tipo Fermentación': 'Lager (Baja Fermentación)',\n",
       "   'IBU': '50-75 Amargor alto',\n",
       "   'IBU Exacto': '75',\n",
       "   'Color': 'Marrón',\n",
       "   'Envase': 'Botella'})]"
      ]
     },
     "execution_count": 25,
     "metadata": {},
     "output_type": "execute_result"
    }
   ],
   "source": [
    "lista_cervezas[0]"
   ]
  },
  {
   "cell_type": "markdown",
   "metadata": {},
   "source": [
    "### FBI: Top ten criminals\n",
    "\n",
    "#### Queremos guardar las imágenes de cada fugitivo y que el nombre de cada archivo sea el nombre del fugitivo:"
   ]
  },
  {
   "cell_type": "code",
   "execution_count": 50,
   "metadata": {},
   "outputs": [
    {
     "data": {
      "text/plain": [
       "[<img src=\"++theme++fbigov.theme/uswds-2.9.0/img/icon-dot-gov.svg\"/>,\n",
       " <img src=\"++theme++fbigov.theme/uswds-2.9.0/img/icon-https.svg\"/>,\n",
       " <img alt=\"Federal Bureau of Investigation Logo\" src=\"https://www.fbi.gov/++theme++fbigov.theme/images/fbibannerseal.png\" title=\"Federal Bureau of Investigation\"/>,\n",
       " <img alt=\"ALEXIS FLORES\" class=\"\" src=\"https://www.fbi.gov/wanted/topten/alexis-flores/@@images/image/preview\"/>,\n",
       " <img alt=\"JOSE RODOLFO VILLARREAL-HERNANDEZ\" class=\"\" src=\"https://www.fbi.gov/wanted/topten/jose-rodolfo-villarreal-hernandez/@@images/image/preview\"/>,\n",
       " <img alt=\"EUGENE PALMER\" class=\"\" src=\"https://www.fbi.gov/wanted/topten/eugene-palmer/@@images/image/preview\"/>,\n",
       " <img alt=\"RAFAEL CARO-QUINTERO\" class=\"\" src=\"https://www.fbi.gov/wanted/topten/rafael-caro-quintero/@@images/image/preview\"/>,\n",
       " <img alt=\"BHADRESHKUMAR CHETANBHAI PATEL\" class=\"\" src=\"https://www.fbi.gov/wanted/topten/bhadreshkumar-chetanbhai-patel/@@images/image/preview\"/>,\n",
       " <img alt=\"ROBERT WILLIAM FISHER\" class=\"\" src=\"https://www.fbi.gov/wanted/topten/robert-william-fisher/@@images/image/preview\"/>,\n",
       " <img alt=\"ALEJANDRO ROSALES CASTILLO\" class=\"\" src=\"https://www.fbi.gov/wanted/topten/alejandro-castillo/@@images/image/preview\"/>,\n",
       " <img alt=\"ARNOLDO JIMENEZ\" class=\"\" src=\"https://www.fbi.gov/wanted/topten/arnoldo-jimenez/@@images/image/preview\"/>,\n",
       " <img alt=\"JASON DEREK BROWN\" class=\"\" src=\"https://www.fbi.gov/wanted/topten/jason-derek-brown/@@images/image/preview\"/>,\n",
       " <img alt=\"YASER ABDEL SAID\" class=\"\" src=\"https://www.fbi.gov/wanted/topten/yaser-abdel-said/@@images/image/preview\"/>]"
      ]
     },
     "execution_count": 50,
     "metadata": {},
     "output_type": "execute_result"
    }
   ],
   "source": [
    "fbi_url = 'https://www.fbi.gov/wanted/topten'\n",
    "\n",
    "# parser lxml\n",
    "# parser html.parser\n",
    "r= requests.get(fbi_url)\n",
    "soup = BeautifulSoup(r.text, \"lxml\")\n",
    "\n",
    "fbi = soup.find_all('img')\n",
    "fbi"
   ]
  },
  {
   "cell_type": "code",
   "execution_count": 62,
   "metadata": {},
   "outputs": [
    {
     "name": "stdout",
     "output_type": "stream",
     "text": [
      "None\n",
      "None\n",
      "Federal Bureau of Investigation Logo\n",
      "ALEXIS FLORES\n",
      "JOSE RODOLFO VILLARREAL-HERNANDEZ\n",
      "EUGENE PALMER\n",
      "RAFAEL CARO-QUINTERO\n",
      "BHADRESHKUMAR CHETANBHAI PATEL\n",
      "ROBERT WILLIAM FISHER\n",
      "ALEJANDRO ROSALES CASTILLO\n",
      "ARNOLDO JIMENEZ\n",
      "JASON DEREK BROWN\n",
      "YASER ABDEL SAID\n"
     ]
    }
   ],
   "source": [
    "for x in fbi:\n",
    "    print(x.get('alt'))"
   ]
  },
  {
   "cell_type": "code",
   "execution_count": 66,
   "metadata": {},
   "outputs": [
    {
     "data": {
      "text/plain": [
       "[None,\n",
       " None,\n",
       " 'Federal Bureau of Investigation Logo',\n",
       " 'ALEXIS FLORES',\n",
       " 'JOSE RODOLFO VILLARREAL-HERNANDEZ',\n",
       " 'EUGENE PALMER',\n",
       " 'RAFAEL CARO-QUINTERO',\n",
       " 'BHADRESHKUMAR CHETANBHAI PATEL',\n",
       " 'ROBERT WILLIAM FISHER',\n",
       " 'ALEJANDRO ROSALES CASTILLO',\n",
       " 'ARNOLDO JIMENEZ',\n",
       " 'JASON DEREK BROWN',\n",
       " 'YASER ABDEL SAID']"
      ]
     },
     "execution_count": 66,
     "metadata": {},
     "output_type": "execute_result"
    }
   ],
   "source": [
    "names = []\n",
    "for x in fbi:\n",
    "    names.append(x.get('alt'))\n",
    "names"
   ]
  },
  {
   "cell_type": "code",
   "execution_count": 63,
   "metadata": {},
   "outputs": [
    {
     "data": {
      "text/plain": [
       "['++theme++fbigov.theme/uswds-2.9.0/img/icon-dot-gov.svg',\n",
       " '++theme++fbigov.theme/uswds-2.9.0/img/icon-https.svg',\n",
       " 'https://www.fbi.gov/++theme++fbigov.theme/images/fbibannerseal.png',\n",
       " 'https://www.fbi.gov/wanted/topten/alexis-flores/@@images/image/preview',\n",
       " 'https://www.fbi.gov/wanted/topten/jose-rodolfo-villarreal-hernandez/@@images/image/preview',\n",
       " 'https://www.fbi.gov/wanted/topten/eugene-palmer/@@images/image/preview',\n",
       " 'https://www.fbi.gov/wanted/topten/rafael-caro-quintero/@@images/image/preview',\n",
       " 'https://www.fbi.gov/wanted/topten/bhadreshkumar-chetanbhai-patel/@@images/image/preview',\n",
       " 'https://www.fbi.gov/wanted/topten/robert-william-fisher/@@images/image/preview',\n",
       " 'https://www.fbi.gov/wanted/topten/alejandro-castillo/@@images/image/preview',\n",
       " 'https://www.fbi.gov/wanted/topten/arnoldo-jimenez/@@images/image/preview',\n",
       " 'https://www.fbi.gov/wanted/topten/jason-derek-brown/@@images/image/preview',\n",
       " 'https://www.fbi.gov/wanted/topten/yaser-abdel-said/@@images/image/preview']"
      ]
     },
     "execution_count": 63,
     "metadata": {},
     "output_type": "execute_result"
    }
   ],
   "source": [
    "imgs = []\n",
    "for x in fbi:\n",
    "    imgs.append(x.get(\"src\"))\n",
    "imgs"
   ]
  },
  {
   "cell_type": "code",
   "execution_count": 70,
   "metadata": {},
   "outputs": [
    {
     "data": {
      "text/plain": [
       "{None: '++theme++fbigov.theme/uswds-2.9.0/img/icon-https.svg',\n",
       " 'Federal Bureau of Investigation Logo': 'https://www.fbi.gov/++theme++fbigov.theme/images/fbibannerseal.png',\n",
       " 'ALEXIS FLORES': 'https://www.fbi.gov/wanted/topten/alexis-flores/@@images/image/preview',\n",
       " 'JOSE RODOLFO VILLARREAL-HERNANDEZ': 'https://www.fbi.gov/wanted/topten/jose-rodolfo-villarreal-hernandez/@@images/image/preview',\n",
       " 'EUGENE PALMER': 'https://www.fbi.gov/wanted/topten/eugene-palmer/@@images/image/preview',\n",
       " 'RAFAEL CARO-QUINTERO': 'https://www.fbi.gov/wanted/topten/rafael-caro-quintero/@@images/image/preview',\n",
       " 'BHADRESHKUMAR CHETANBHAI PATEL': 'https://www.fbi.gov/wanted/topten/bhadreshkumar-chetanbhai-patel/@@images/image/preview',\n",
       " 'ROBERT WILLIAM FISHER': 'https://www.fbi.gov/wanted/topten/robert-william-fisher/@@images/image/preview',\n",
       " 'ALEJANDRO ROSALES CASTILLO': 'https://www.fbi.gov/wanted/topten/alejandro-castillo/@@images/image/preview',\n",
       " 'ARNOLDO JIMENEZ': 'https://www.fbi.gov/wanted/topten/arnoldo-jimenez/@@images/image/preview',\n",
       " 'JASON DEREK BROWN': 'https://www.fbi.gov/wanted/topten/jason-derek-brown/@@images/image/preview',\n",
       " 'YASER ABDEL SAID': 'https://www.fbi.gov/wanted/topten/yaser-abdel-said/@@images/image/preview'}"
      ]
     },
     "execution_count": 70,
     "metadata": {},
     "output_type": "execute_result"
    }
   ],
   "source": [
    "dict_fbi = zip(names,imgs)\n",
    "dict_fbi = dict(dict_fbi)\n",
    "dict_fbi"
   ]
  },
  {
   "cell_type": "code",
   "execution_count": 73,
   "metadata": {},
   "outputs": [],
   "source": [
    "for key, value in dict_fbi.items():\n",
    "    if not \"+\" in value:  # or http in img_url\n",
    "        r = requests.get(value)\n",
    "        if r.status_code == 200:  # Get OK\n",
    "            with open(str(key) + \".png\", 'wb') as f:\n",
    "                f.write(r.content)"
   ]
  },
  {
   "cell_type": "code",
   "execution_count": null,
   "metadata": {},
   "outputs": [],
   "source": []
  }
 ],
 "metadata": {
  "hide_input": false,
  "interpreter": {
   "hash": "1f70063eb09cca0e5f371cf042d4e815f639923a294a343f5ca4436da0970e12"
  },
  "kernelspec": {
   "display_name": "Python 3.8.8 64-bit",
   "name": "python3"
  },
  "language_info": {
   "codemirror_mode": {
    "name": "ipython",
    "version": 3
   },
   "file_extension": ".py",
   "mimetype": "text/x-python",
   "name": "python",
   "nbconvert_exporter": "python",
   "pygments_lexer": "ipython3",
   "version": "3.8.8"
  },
  "varInspector": {
   "cols": {
    "lenName": 16,
    "lenType": 16,
    "lenVar": 40
   },
   "kernels_config": {
    "python": {
     "delete_cmd_postfix": "",
     "delete_cmd_prefix": "del ",
     "library": "var_list.py",
     "varRefreshCmd": "print(var_dic_list())"
    },
    "r": {
     "delete_cmd_postfix": ") ",
     "delete_cmd_prefix": "rm(",
     "library": "var_list.r",
     "varRefreshCmd": "cat(var_dic_list()) "
    }
   },
   "types_to_exclude": [
    "module",
    "function",
    "builtin_function_or_method",
    "instance",
    "_Feature"
   ],
   "window_display": false
  }
 },
 "nbformat": 4,
 "nbformat_minor": 2
}
